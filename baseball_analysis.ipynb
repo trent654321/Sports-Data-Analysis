{
 "cells": [
  {
   "cell_type": "code",
   "execution_count": null,
   "id": "f7e37552",
   "metadata": {},
   "outputs": [],
   "source": [
    "#imports\n",
    "import pandas as pd\n",
    "import os\n",
    "import matplotlib.pyplot as plt\n",
    "from scipy.stats import linregress"
   ]
  },
  {
   "cell_type": "code",
   "execution_count": null,
   "id": "5a03af24",
   "metadata": {},
   "outputs": [],
   "source": [
    "#load data\n",
    "frames = {}\n",
    "years = ['2019','2018','2017','2016','2015','2014','2013','2012','2011','2010']\n",
    "stats = ['standings','bat']\n",
    "for year in (years):\n",
    "        for stat in stats:\n",
    "            file_name = year + '_' + stat + '.csv'\n",
    "            path = os.path.join('Resources',file_name,)\n",
    "            df = pd.read_csv(path)\n",
    "            frames[file_name] = df\n",
    "for frame in frames:\n",
    "    print(frames[frame].head())"
   ]
  },
  {
   "cell_type": "markdown",
   "id": "7d38eea8",
   "metadata": {},
   "source": [
    "## What impact does home runs have on wins?"
   ]
  },
  {
   "cell_type": "code",
   "execution_count": null,
   "id": "41b49790",
   "metadata": {},
   "outputs": [],
   "source": [
    "#2010-2019 Analyis"
   ]
  },
  {
   "cell_type": "code",
   "execution_count": null,
   "id": "583739cd",
   "metadata": {},
   "outputs": [],
   "source": [
    "#2010-2019 Visualization"
   ]
  },
  {
   "cell_type": "code",
   "execution_count": null,
   "id": "5f32b3c5",
   "metadata": {},
   "outputs": [],
   "source": [
    "#2019 Analysis"
   ]
  },
  {
   "cell_type": "code",
   "execution_count": null,
   "id": "afe8c66a",
   "metadata": {},
   "outputs": [],
   "source": [
    "#2019 Visualization"
   ]
  },
  {
   "cell_type": "code",
   "execution_count": null,
   "id": "5a8ab4ad",
   "metadata": {},
   "outputs": [],
   "source": [
    "#2018 Analysis"
   ]
  },
  {
   "cell_type": "code",
   "execution_count": null,
   "id": "9e1a6692",
   "metadata": {},
   "outputs": [],
   "source": [
    "#2018 Visualization"
   ]
  },
  {
   "cell_type": "code",
   "execution_count": null,
   "id": "5cee67ae",
   "metadata": {},
   "outputs": [],
   "source": [
    "#2017 Analysis"
   ]
  },
  {
   "cell_type": "code",
   "execution_count": null,
   "id": "9205a036",
   "metadata": {},
   "outputs": [],
   "source": [
    "#2017 Visualization"
   ]
  },
  {
   "cell_type": "code",
   "execution_count": null,
   "id": "c1c7ae9e",
   "metadata": {},
   "outputs": [],
   "source": [
    "#2016 Analysis"
   ]
  },
  {
   "cell_type": "code",
   "execution_count": null,
   "id": "dd860cee",
   "metadata": {},
   "outputs": [],
   "source": [
    "#2015 Analysis"
   ]
  },
  {
   "cell_type": "code",
   "execution_count": null,
   "id": "4f8436f9",
   "metadata": {},
   "outputs": [],
   "source": [
    "#2015 Visualization"
   ]
  }
 ],
 "metadata": {
  "kernelspec": {
   "display_name": "Python 3",
   "language": "python",
   "name": "python3"
  },
  "language_info": {
   "codemirror_mode": {
    "name": "ipython",
    "version": 3
   },
   "file_extension": ".py",
   "mimetype": "text/x-python",
   "name": "python",
   "nbconvert_exporter": "python",
   "pygments_lexer": "ipython3",
   "version": "3.6.10"
  }
 },
 "nbformat": 4,
 "nbformat_minor": 5
}
