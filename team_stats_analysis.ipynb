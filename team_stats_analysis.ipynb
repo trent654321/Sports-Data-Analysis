{
 "cells": [
  {
   "cell_type": "code",
   "execution_count": 2,
   "id": "01707388",
   "metadata": {},
   "outputs": [],
   "source": [
    "#imports\n",
    "import pandas as pd\n",
    "import os"
   ]
  },
  {
   "cell_type": "code",
   "execution_count": 10,
   "id": "d3ce2976",
   "metadata": {},
   "outputs": [
    {
     "name": "stdout",
     "output_type": "stream",
     "text": [
      "    Rk                   Tm    W   L   W-L%    R   RA  Rdiff  SOS  SRS  ...  \\\n",
      "0  1.0       Houston Astros  107  55  0.660  5.7  4.0    1.7 -0.3  1.4  ...   \n",
      "1  2.0  Los Angeles Dodgers  106  56  0.654  5.5  3.8    1.7  0.0  1.7  ...   \n",
      "2  3.0     New York Yankees  103  59  0.636  5.8  4.6    1.3 -0.3  1.0  ...   \n",
      "3  4.0      Minnesota Twins  101  61  0.624  5.8  4.7    1.1 -0.5  0.7  ...   \n",
      "4  5.0       Atlanta Braves   97  65  0.599  5.3  4.6    0.7  0.1  0.8  ...   \n",
      "\n",
      "    vWest   Inter   Home   Road   ExInn    1Run   vRHP    vLHP  ≥.500  <.500  \n",
      "0   56-20  09-Nov  60-21  47-34  04-Oct   24-19  69-44  Nov-38  35-28  72-27  \n",
      "1   51-25  10-Oct  59-22  47-34  04-Jun   27-22  76-34   30-22  45-32  61-24  \n",
      "2   19-14  08-Dec  57-24  46-35  04-Jul   18-19  70-41   33-18  43-32  60-27  \n",
      "3  23-Nov  12-Aug  46-35  55-26  07-May  23-Dec  79-44   22-17  32-37  69-24  \n",
      "4   18-15  13-Jul  50-31  47-34  06-Nov   28-16  74-51   23-14  52-43  45-22  \n",
      "\n",
      "[5 rows x 24 columns]\n"
     ]
    }
   ],
   "source": [
    "#read files and create dataframes\n",
    "frames = {}\n",
    "file_names = ['2019_standings']\n",
    "for file_name in (file_names):\n",
    "    with_extension = file_name + '.csv'\n",
    "    path = os.path.join('Resources',with_extension,)\n",
    "    df = pd.read_csv(path)\n",
    "    frames[file_name] = df\n",
    "for frame in frames:\n",
    "    print(frames[frame].head())\n"
   ]
  },
  {
   "cell_type": "code",
   "execution_count": null,
   "id": "af1d5955",
   "metadata": {},
   "outputs": [],
   "source": []
  }
 ],
 "metadata": {
  "kernelspec": {
   "display_name": "Python 3",
   "language": "python",
   "name": "python3"
  },
  "language_info": {
   "codemirror_mode": {
    "name": "ipython",
    "version": 3
   },
   "file_extension": ".py",
   "mimetype": "text/x-python",
   "name": "python",
   "nbconvert_exporter": "python",
   "pygments_lexer": "ipython3",
   "version": "3.6.10"
  }
 },
 "nbformat": 4,
 "nbformat_minor": 5
}
