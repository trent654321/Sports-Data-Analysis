{
 "cells": [
  {
   "cell_type": "code",
   "execution_count": 2,
   "id": "01707388",
   "metadata": {},
   "outputs": [],
   "source": [
    "#imports\n",
    "import pandas as pd\n",
    "import os"
   ]
  },
  {
   "cell_type": "code",
   "execution_count": 12,
   "id": "d3ce2976",
   "metadata": {},
   "outputs": [
    {
     "name": "stdout",
     "output_type": "stream",
     "text": [
      "    Rk                   Tm    W   L   W-L%    R   RA  Rdiff  SOS  SRS  ...  \\\n",
      "0  1.0       Houston Astros  107  55  0.660  5.7  4.0    1.7 -0.3  1.4  ...   \n",
      "1  2.0  Los Angeles Dodgers  106  56  0.654  5.5  3.8    1.7  0.0  1.7  ...   \n",
      "2  3.0     New York Yankees  103  59  0.636  5.8  4.6    1.3 -0.3  1.0  ...   \n",
      "3  4.0      Minnesota Twins  101  61  0.624  5.8  4.7    1.1 -0.5  0.7  ...   \n",
      "4  5.0       Atlanta Braves   97  65  0.599  5.3  4.6    0.7  0.1  0.8  ...   \n",
      "\n",
      "    vWest   Inter   Home   Road   ExInn    1Run   vRHP    vLHP  ≥.500  <.500  \n",
      "0   56-20  09-Nov  60-21  47-34  04-Oct   24-19  69-44  Nov-38  35-28  72-27  \n",
      "1   51-25  10-Oct  59-22  47-34  04-Jun   27-22  76-34   30-22  45-32  61-24  \n",
      "2   19-14  08-Dec  57-24  46-35  04-Jul   18-19  70-41   33-18  43-32  60-27  \n",
      "3  23-Nov  12-Aug  46-35  55-26  07-May  23-Dec  79-44   22-17  32-37  69-24  \n",
      "4   18-15  13-Jul  50-31  47-34  06-Nov   28-16  74-51   23-14  52-43  45-22  \n",
      "\n",
      "[5 rows x 24 columns]\n",
      "    Rk                 Tm    W   L   W-L%    R   RA  Rdiff  SOS  SRS  ...  \\\n",
      "0  1.0     Boston Red Sox  108  54  0.667  5.4  4.0    1.4 -0.2  1.2  ...   \n",
      "1  2.0     Houston Astros  103  59  0.636  4.9  3.3    1.6 -0.1  1.5  ...   \n",
      "2  3.0   New York Yankees  100  62  0.617  5.3  4.1    1.1 -0.2  0.9  ...   \n",
      "3  4.0  Oakland Athletics   97  65  0.599  5.0  4.2    0.9  0.0  0.8  ...   \n",
      "4  5.0  Milwaukee Brewers   96  67  0.589  4.6  4.0    0.6  0.0  0.6  ...   \n",
      "\n",
      "    vWest   Inter   Home   Road   ExInn   1Run   vRHP   vLHP  ≥.500  <.500  \n",
      "0  21-Dec  16-Apr  57-24  51-30  05-Aug  25-14  87-38  21-16  41-33  67-21  \n",
      "1   46-30  13-Jul  46-35  57-24  06-May  24-24  66-36  37-23  41-38  62-21  \n",
      "2  22-Oct  09-Nov  53-28  47-34  05-Sep  23-17  70-47  30-15  41-30  59-32  \n",
      "3   38-38  08-Dec  50-31  47-34  13-Jun  31-14  65-40  32-25  33-40  64-25  \n",
      "4  23-Oct  13-Jul  51-30  45-37  07-Sep  33-19  72-48  24-19  49-46  47-21  \n",
      "\n",
      "[5 rows x 24 columns]\n",
      "    Rk                    Tm    W   L   W-L%    R   RA  Rdiff  SOS  SRS  ...  \\\n",
      "0  1.0   Los Angeles Dodgers  104  58  0.642  4.8  3.6    1.2 -0.2  0.9  ...   \n",
      "1  2.0     Cleveland Indians  102  60  0.630  5.0  3.5    1.6 -0.1  1.5  ...   \n",
      "2  3.0        Houston Astros  101  61  0.624  5.5  4.3    1.2  0.0  1.2  ...   \n",
      "3  4.0  Washington Nationals   97  65  0.599  5.1  4.1    0.9 -0.3  0.6  ...   \n",
      "4  5.0        Boston Red Sox   93  69  0.574  4.8  4.1    0.7  0.1  0.8  ...   \n",
      "\n",
      "    vWest   Inter   Home   Road   ExInn   1Run   vRHP   vLHP  ≥.500  <.500  \n",
      "0   41-35  16-Apr  57-24  47-34  04-Aug  25-19  71-43  33-15  36-33  68-25  \n",
      "1  24-Aug  14-Jun  49-32  53-28  02-Apr  20-15  66-36  36-24  27-22  75-38  \n",
      "2   50-26  15-May  48-33  53-28  04-Apr  19-13  80-37  21-24  18-15  83-46  \n",
      "3  21-Nov  10-Oct  47-34  50-31  04-Jul  30-21  75-50  22-15  23-19  74-46  \n",
      "4   16-16  16-Apr  48-33  45-36  15-Mar  22-19  75-50  18-19  27-23  66-46  \n",
      "\n",
      "[5 rows x 24 columns]\n",
      "    Rk                    Tm    W   L   W-L%    R   RA  Rdiff  SOS  SRS  ...  \\\n",
      "0  1.0          Chicago Cubs  103  58  0.640  5.0  3.4    1.6 -0.2  1.3  ...   \n",
      "1  2.0  Washington Nationals   95  67  0.586  4.7  3.8    0.9 -0.3  0.6  ...   \n",
      "2  3.0         Texas Rangers   95  67  0.586  4.7  4.7    0.0  0.1  0.2  ...   \n",
      "3  4.0     Cleveland Indians   94  67  0.584  4.8  4.2    0.6  0.0  0.6  ...   \n",
      "4  5.0        Boston Red Sox   93  69  0.574  5.4  4.3    1.1  0.1  1.3  ...   \n",
      "\n",
      "    vWest   Inter   Home   Road   ExInn    1Run   vRHP   vLHP  ≥.500  <.500  \n",
      "0   19-14  15-May  57-24  46-34  04-Sep   22-23  75-41  28-17  31-25  72-33  \n",
      "1   15-18  08-Dec  50-31  45-36  08-May   26-19  75-53  20-14  31-29  64-38  \n",
      "2   47-29  13-Jul  53-28  42-39  06-Jun  Nov-36  73-48  22-19  60-31  35-36  \n",
      "3   18-16  13-Jul  53-28  41-39  06-Jun   28-21  63-47  31-20  48-43  46-24  \n",
      "4  21-Dec  14-Jun  47-34  46-35  04-Jul   20-24  73-52  20-17  55-48  38-21  \n",
      "\n",
      "[5 rows x 24 columns]\n",
      "    Rk                   Tm    W   L   W-L%    R   RA  Rdiff  SOS  SRS  ...  \\\n",
      "0  1.0  St. Louis Cardinals  100  62  0.617  4.0  3.2    0.8 -0.3  0.5  ...   \n",
      "1  2.0   Pittsburgh Pirates   98  64  0.605  4.3  3.7    0.6 -0.3  0.3  ...   \n",
      "2  3.0         Chicago Cubs   97  65  0.599  4.3  3.8    0.5 -0.3  0.2  ...   \n",
      "3  4.0   Kansas City Royals   95  67  0.586  4.5  4.0    0.5  0.2  0.7  ...   \n",
      "4  5.0    Toronto Blue Jays   93  69  0.574  5.5  4.1    1.4  0.2  1.6  ...   \n",
      "\n",
      "    vWest   Inter   Home   Road   ExInn   1Run   vRHP   vLHP  ≥.500  <.500  \n",
      "0  23-Nov  09-Nov  55-26  45-36  08-Aug  32-23  75-44  25-18  46-31  54-31  \n",
      "1  27-Jun  13-Jul  53-28  45-36  09-Dec  36-17  78-48  20-16  42-32  56-32  \n",
      "2   19-13  10-Oct  49-32  48-33  13-May  34-21  77-51  20-14  44-32  53-33  \n",
      "3  20-Dec  13-Jul  51-30  44-37  06-Oct  23-17  64-40  31-27  47-43  48-24  \n",
      "4   19-13  08-Dec  53-28  40-41  06-Aug  15-28  73-54  20-15  53-33  40-36  \n",
      "\n",
      "[5 rows x 24 columns]\n"
     ]
    }
   ],
   "source": [
    "#read files and create dataframes\n",
    "frames = {}\n",
    "file_names = ['2019_standings','2018_standings','2017_standings','2016_standings','2015_standings']\n",
    "for file_name in (file_names):\n",
    "    with_extension = file_name + '.csv'\n",
    "    path = os.path.join('Resources',with_extension,)\n",
    "    df = pd.read_csv(path)\n",
    "    frames[file_name] = df\n",
    "for frame in frames:\n",
    "    print(frames[frame].head())\n"
   ]
  },
  {
   "cell_type": "code",
   "execution_count": null,
   "id": "af1d5955",
   "metadata": {},
   "outputs": [],
   "source": []
  }
 ],
 "metadata": {
  "kernelspec": {
   "display_name": "Python 3",
   "language": "python",
   "name": "python3"
  },
  "language_info": {
   "codemirror_mode": {
    "name": "ipython",
    "version": 3
   },
   "file_extension": ".py",
   "mimetype": "text/x-python",
   "name": "python",
   "nbconvert_exporter": "python",
   "pygments_lexer": "ipython3",
   "version": "3.6.10"
  }
 },
 "nbformat": 4,
 "nbformat_minor": 5
}
