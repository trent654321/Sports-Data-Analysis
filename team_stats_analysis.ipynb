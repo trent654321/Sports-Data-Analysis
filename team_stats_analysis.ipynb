{
 "cells": [
  {
   "cell_type": "code",
   "execution_count": 2,
   "id": "01707388",
   "metadata": {},
   "outputs": [],
   "source": [
    "#imports\n",
    "import pandas as pd\n",
    "import os"
   ]
  },
  {
   "cell_type": "code",
   "execution_count": 11,
   "id": "d3ce2976",
   "metadata": {},
   "outputs": [
    {
     "name": "stdout",
     "output_type": "stream",
     "text": [
      "   Year    G  AG   ARI  IAB  ATL  AC  BBS  BEG  BAL  ...  SL2  HAR   TBR  \\\n",
      "0  2021   70 NaN  20.0  NaN   30 NaN  NaN  NaN   22  ...  NaN  NaN  43.0   \n",
      "1  2020   60 NaN  25.0  NaN   35 NaN  NaN  NaN   25  ...  NaN  NaN  40.0   \n",
      "2  2019  162 NaN  85.0  NaN   97 NaN  NaN  NaN   54  ...  NaN  NaN  96.0   \n",
      "3  2018  163 NaN  82.0  NaN   90 NaN  NaN  NaN   47  ...  NaN  NaN  90.0   \n",
      "4  2017  162 NaN  93.0  NaN   72 NaN  NaN  NaN   75  ...  NaN  NaN  80.0   \n",
      "\n",
      "    TEX  TT   TOR  SEN   WSN  WAP  WMP  \n",
      "0  25.0 NaN  33.0  NaN  30.0  NaN  NaN  \n",
      "1  22.0 NaN  32.0  NaN  26.0  NaN  NaN  \n",
      "2  78.0 NaN  67.0  NaN  93.0  NaN  NaN  \n",
      "3  67.0 NaN  73.0  NaN  82.0  NaN  NaN  \n",
      "4  78.0 NaN  76.0  NaN  97.0  NaN  NaN  \n",
      "\n",
      "[5 rows x 97 columns]\n"
     ]
    }
   ],
   "source": [
    "#read files and create dataframes\n",
    "frames = {}\n",
    "file_names = ['2019_standings','2018_standings','2017_standings','2016_standings','2015_standings']\n",
    "for file_name in (file_names):\n",
    "    with_extension = file_name + '.csv'\n",
    "    path = os.path.join('Resources',with_extension,)\n",
    "    df = pd.read_csv(path)\n",
    "    frames[file_name] = df\n",
    "for frame in frames:\n",
    "    print(frames[frame].head())\n"
   ]
  },
  {
   "cell_type": "code",
   "execution_count": null,
   "id": "af1d5955",
   "metadata": {},
   "outputs": [],
   "source": []
  }
 ],
 "metadata": {
  "kernelspec": {
   "display_name": "Python 3",
   "language": "python",
   "name": "python3"
  },
  "language_info": {
   "codemirror_mode": {
    "name": "ipython",
    "version": 3
   },
   "file_extension": ".py",
   "mimetype": "text/x-python",
   "name": "python",
   "nbconvert_exporter": "python",
   "pygments_lexer": "ipython3",
   "version": "3.6.10"
  }
 },
 "nbformat": 4,
 "nbformat_minor": 5
}
